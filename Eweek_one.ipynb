{
  "nbformat": 4,
  "nbformat_minor": 0,
  "metadata": {
    "colab": {
      "provenance": [],
      "authorship_tag": "ABX9TyNxsYgY5v9BPNigDesOFBRh",
      "include_colab_link": true
    },
    "kernelspec": {
      "name": "python3",
      "display_name": "Python 3"
    },
    "language_info": {
      "name": "python"
    }
  },
  "cells": [
    {
      "cell_type": "markdown",
      "metadata": {
        "id": "view-in-github",
        "colab_type": "text"
      },
      "source": [
        "<a href=\"https://colab.research.google.com/github/epgit1/python_bootcamp/blob/main/Eweek_one.ipynb\" target=\"_parent\"><img src=\"https://colab.research.google.com/assets/colab-badge.svg\" alt=\"Open In Colab\"/></a>"
      ]
    },
    {
      "cell_type": "code",
      "execution_count": null,
      "metadata": {
        "colab": {
          "base_uri": "https://localhost:8080/"
        },
        "id": "XPNuKKq6CVry",
        "outputId": "6e636720-777b-4108-ad2f-7360a3bf39d3"
      },
      "outputs": [
        {
          "output_type": "stream",
          "name": "stdout",
          "text": [
            "<Response [200]>\n",
            "{\"id\":\"ac4be6f5-0411-4c20-bde0-13b336ccdf33\",\"text\":\"Over 60% of all those who marry get divorced.\",\"source\":\"djtech.net\",\"source_url\":\"http:\\/\\/www.djtech.net\\/humor\\/useless_facts.htm\",\"language\":\"en\",\"permalink\":\"https:\\/\\/uselessfacts.jsph.pl\\/ac4be6f5-0411-4c20-bde0-13b336ccdf33\"}\n"
          ]
        }
      ],
      "source": [
        "import requests\n",
        "\n",
        "response = requests.get('https://uselessfacts.jsph.pl/random.json')\n",
        "print(response)\n",
        "\n",
        "response = requests.get('https://uselessfacts.jsph.pl/random.json?language=en')\n",
        "print(response.text)"
      ]
    },
    {
      "cell_type": "markdown",
      "source": [
        "importing module\n",
        "module objects will have methods\n",
        "object.method = requests.get(arguements)"
      ],
      "metadata": {
        "id": "ZXXRE1RyP5Wc"
      }
    },
    {
      "cell_type": "code",
      "source": [
        "query_parameters = {\n",
        "    'language':'en'\n",
        "}\n",
        "\n",
        "response = requests.get('https://uselessfacts.jsph.pl/random.json', params = query_parameters)\n",
        "print(response.text)\n",
        "print(type(response.json()))\n",
        "print(response.json().get('text'))"
      ],
      "metadata": {
        "colab": {
          "base_uri": "https://localhost:8080/"
        },
        "id": "TULCunGgJgnA",
        "outputId": "ec71295d-bbba-4704-8a17-742c1310fa34"
      },
      "execution_count": null,
      "outputs": [
        {
          "output_type": "stream",
          "name": "stdout",
          "text": [
            "{\"id\":\"62084025-21b7-4a0a-a852-4a9535d87293\",\"text\":\"Crocodiles and alligators are surprisingly fast on land.\\u00a0 Although they are rapid, they are not agile.\\u00a0 So, if being chased by one, run in a zigzag line to lose him or her.\",\"source\":\"djtech.net\",\"source_url\":\"http:\\/\\/www.djtech.net\\/humor\\/useless_facts.htm\",\"language\":\"en\",\"permalink\":\"https:\\/\\/uselessfacts.jsph.pl\\/62084025-21b7-4a0a-a852-4a9535d87293\"}\n",
            "<class 'dict'>\n",
            "Crocodiles and alligators are surprisingly fast on land.  Although they are rapid, they are not agile.  So, if being chased by one, run in a zigzag line to lose him or her.\n"
          ]
        }
      ]
    },
    {
      "cell_type": "code",
      "source": [],
      "metadata": {
        "id": "A_t_2E6EJfnD"
      },
      "execution_count": null,
      "outputs": []
    },
    {
      "cell_type": "markdown",
      "source": [
        "#Data Structures\n",
        "lists, dictionaries and sets"
      ],
      "metadata": {
        "id": "80ROgW6hI-4T"
      }
    },
    {
      "cell_type": "code",
      "source": [
        "data = ['Caleb', 'Erik']\n",
        "print(data)\n",
        "print(data[1])\n",
        "data.append('David')\n",
        "print(data)\n",
        "data.append(['Hello','bye'])\n",
        "data.append(5)\n",
        "print(data)"
      ],
      "metadata": {
        "id": "9q2iDv1wXOUy"
      },
      "execution_count": null,
      "outputs": []
    },
    {
      "cell_type": "code",
      "source": [
        "data = ['Jason', 'John', 'Cameron', 'Chris']\n",
        "print(data[1])\n",
        "print(data[1:3])\n",
        "print(data[1:4:2])"
      ],
      "metadata": {
        "colab": {
          "base_uri": "https://localhost:8080/"
        },
        "id": "04GT7h2jXPp4",
        "outputId": "08889524-6ec4-4aee-c8b5-bc3be24f5075"
      },
      "execution_count": null,
      "outputs": [
        {
          "output_type": "stream",
          "name": "stdout",
          "text": [
            "John\n",
            "['John', 'Cameron']\n",
            "['John', 'Chris']\n"
          ]
        }
      ]
    },
    {
      "cell_type": "markdown",
      "source": [
        "#Dictionaries and Sets\n"
      ],
      "metadata": {
        "id": "xCXwuFZLY1rz"
      }
    },
    {
      "cell_type": "code",
      "source": [
        "data = {'Jason', 'John', 'Cameron', 'Chris', 'Jason'}\n",
        "print(data)\n",
        "data_dictionary = {\n",
        "    'Jason' : 0,\n",
        "    'John' : 3,\n",
        "    'Cameron' : 4,\n",
        "    'Chris' : 3,\n",
        "    'Jason' : -1\n",
        "}\n",
        "print(data_dictionary)\n",
        "print(data_dictionary.get('Cameron'))"
      ],
      "metadata": {
        "colab": {
          "base_uri": "https://localhost:8080/"
        },
        "id": "HXMsozBDY6j6",
        "outputId": "e14a5f2d-b7ec-4dd0-8fcf-7a5fc604904f"
      },
      "execution_count": null,
      "outputs": [
        {
          "output_type": "stream",
          "name": "stdout",
          "text": [
            "{'Jason', 'Cameron', 'Chris', 'John'}\n",
            "{'Jason': -1, 'John': 3, 'Cameron': 4, 'Chris': 3}\n",
            "4\n"
          ]
        }
      ]
    },
    {
      "cell_type": "markdown",
      "source": [
        "#Control Flow - Loops and conditionals"
      ],
      "metadata": {
        "id": "yReZHyziagX3"
      }
    },
    {
      "cell_type": "code",
      "source": [
        "for i in range(10):\n",
        "  print(i)\n",
        "  #increased here\n",
        "  \n",
        "for pizza in range(10):\n",
        "  print(pizza)\n",
        "\n"
      ],
      "metadata": {
        "colab": {
          "base_uri": "https://localhost:8080/"
        },
        "id": "8UmEwnF3afiX",
        "outputId": "de09a14b-7c78-44b4-cfc1-5034b3e188ed"
      },
      "execution_count": null,
      "outputs": [
        {
          "output_type": "stream",
          "name": "stdout",
          "text": [
            "0\n",
            "1\n",
            "2\n",
            "3\n",
            "4\n",
            "5\n",
            "6\n",
            "7\n",
            "8\n",
            "9\n",
            "0\n",
            "1\n",
            "2\n",
            "3\n",
            "4\n",
            "5\n",
            "6\n",
            "7\n",
            "8\n",
            "9\n"
          ]
        }
      ]
    },
    {
      "cell_type": "code",
      "source": [
        "data = ['a','b','c','d','e']\n",
        "print(len(data))\n",
        "for i in range(5):\n",
        "  print(data[i])\n",
        "\n",
        "for i in range(len(data)):\n",
        "  print(data[i])\n",
        "\n",
        "for letter in data:\n",
        "  print(letter)\n",
        "\n",
        "for i, letter in enumerate(data):\n",
        "  print(i, letter)"
      ],
      "metadata": {
        "colab": {
          "base_uri": "https://localhost:8080/"
        },
        "id": "Mmc0GYNKbXvv",
        "outputId": "d612c95d-62c4-4816-f06d-a16bc2be053e"
      },
      "execution_count": null,
      "outputs": [
        {
          "output_type": "stream",
          "name": "stdout",
          "text": [
            "5\n",
            "a\n",
            "b\n",
            "c\n",
            "d\n",
            "e\n",
            "a\n",
            "b\n",
            "c\n",
            "d\n",
            "e\n",
            "a\n",
            "b\n",
            "c\n",
            "d\n",
            "e\n",
            "0 a\n",
            "1 b\n",
            "2 c\n",
            "3 d\n",
            "4 e\n"
          ]
        }
      ]
    },
    {
      "cell_type": "code",
      "source": [
        "data = ['a','b','c','d','e']\n",
        "i = 0\n",
        "while i < len(data):\n",
        "  print(data[i], end = \" \")\n",
        "  i += 1\n",
        "\n",
        "while True:\n",
        "  x = input()\n",
        "  if x == 'stop':\n",
        "    break\n",
        "  elif x == 'special':\n",
        "    continue\n",
        "  else:\n",
        "    print(\"Was not stop or special\")\n",
        "    print(\"printing data....\")"
      ],
      "metadata": {
        "colab": {
          "base_uri": "https://localhost:8080/"
        },
        "id": "9V6DL4Tze17s",
        "outputId": "aab389de-31a2-4569-dd45-e3396088e94c"
      },
      "execution_count": null,
      "outputs": [
        {
          "name": "stdout",
          "output_type": "stream",
          "text": [
            "a b c d e a\n",
            "1\n",
            "2\n",
            "3\n",
            "4\n",
            "5\n",
            "special\n",
            "2\n",
            "1\n",
            "3\n",
            "4\n",
            "2\n",
            "2\n",
            "3\n",
            "4\n",
            "stop\n"
          ]
        }
      ]
    },
    {
      "cell_type": "code",
      "source": [
        "data_dictionary = {\n",
        "    'Jason' : 0,\n",
        "    'John' : 3,\n",
        "    'Cameron' : 4,\n",
        "    'Chris' : 3,\n",
        "    'Jason' : -1\n",
        "}\n",
        "\n",
        "for key, value in data_dictionary.items():\n",
        "    print(key, value, end = \" \")\n",
        "\n",
        "for key, value in data_dictionary.items():\n",
        "  if value == 3:\n",
        "    print(\"Got it\")\n",
        "    break\n"
      ],
      "metadata": {
        "colab": {
          "base_uri": "https://localhost:8080/"
        },
        "id": "L3FFgimwhN39",
        "outputId": "9e422fcd-42bd-4eb7-aa0a-30486a3137b5"
      },
      "execution_count": null,
      "outputs": [
        {
          "output_type": "stream",
          "name": "stdout",
          "text": [
            "Jason -1 John 3 Cameron 4 Chris 3 Got it\n"
          ]
        }
      ]
    },
    {
      "cell_type": "code",
      "source": [],
      "metadata": {
        "id": "ZyDYvLKmFFLd"
      },
      "execution_count": null,
      "outputs": []
    },
    {
      "cell_type": "markdown",
      "source": [
        "#custom code guessingg game"
      ],
      "metadata": {
        "id": "WxCRr7iDFIDz"
      }
    },
    {
      "cell_type": "code",
      "source": [
        "import random\n",
        "\n",
        "print(random.randint(0, 10))\n",
        "\n"
      ],
      "metadata": {
        "colab": {
          "base_uri": "https://localhost:8080/"
        },
        "id": "uZ4O3P9iFFeI",
        "outputId": "eb5325cd-4dd1-4dd0-def9-106efc85ae70"
      },
      "execution_count": null,
      "outputs": [
        {
          "output_type": "stream",
          "name": "stdout",
          "text": [
            "8\n"
          ]
        }
      ]
    },
    {
      "cell_type": "code",
      "source": [
        "from random import randint\n",
        "\n",
        "correct = randint(0, 100)\n",
        "print(correct)\n",
        "print('Guess a number between 0 and 100')\n",
        "while True:\n",
        "  guess = int(input())\n",
        "\n",
        "  if guess < correct:\n",
        "    print(\"Guess Higher\")\n",
        "  elif guess > correct:\n",
        "    print(\"Guess Lower\")\n",
        "  else:\n",
        "    print(\"You Win\")\n",
        "    break "
      ],
      "metadata": {
        "colab": {
          "base_uri": "https://localhost:8080/"
        },
        "id": "Wq7_V2HkFtCe",
        "outputId": "daa84507-5af8-4939-bbd0-3143c652ab8e"
      },
      "execution_count": null,
      "outputs": [
        {
          "output_type": "stream",
          "name": "stdout",
          "text": [
            "76\n",
            "75\n",
            "Guess Higher\n",
            "77\n",
            "Guess Lower\n",
            "76\n",
            "You Win\n"
          ]
        }
      ]
    }
  ]
}